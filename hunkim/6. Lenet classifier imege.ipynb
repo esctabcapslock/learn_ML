{
 "metadata": {
  "language_info": {
   "codemirror_mode": {
    "name": "ipython",
    "version": 3
   },
   "file_extension": ".py",
   "mimetype": "text/x-python",
   "name": "python",
   "nbconvert_exporter": "python",
   "pygments_lexer": "ipython3",
   "version": "3.9.5"
  },
  "orig_nbformat": 4,
  "kernelspec": {
   "name": "python3",
   "display_name": "Python 3.9.5 64-bit ('venv': venv)"
  },
  "interpreter": {
   "hash": "7b26f6b7f7a020fdea9c254ad2153ffd638fa6718507af68bd2423194a1a611e"
  }
 },
 "nbformat": 4,
 "nbformat_minor": 2,
 "cells": [
  {
   "source": [
    "# 컬러 이미지 분류하기\n",
    "[Tensorflow 102 - 12 Lenet (실습)](https://www.youtube.com/watch?v=IuMjcNiQKPs&list=PLl1irxoYh2wzOOU9hvJqMYc215wAlxrpp&index=14)"
   ],
   "cell_type": "markdown",
   "metadata": {}
  },
  {
   "cell_type": "code",
   "execution_count": 1,
   "metadata": {},
   "outputs": [],
   "source": [
    "import tensorflow as tf\n",
    "import matplotlib.pyplot as plt\n",
    "import numpy as np\n",
    "import pandas as pd"
   ]
  },
  {
   "cell_type": "code",
   "execution_count": 6,
   "metadata": {},
   "outputs": [
    {
     "output_type": "stream",
     "name": "stdout",
     "text": [
      "(50000, 32, 32, 3) (50000, 1)\n(50000, 32, 32, 3) (50000, 10)\n"
     ]
    }
   ],
   "source": [
    "#cifar: 10가지 사물 분류\n",
    "(독립, 종속), _ = tf.keras.datasets.cifar10.load_data()\n",
    "print(독립.shape, 종속.shape)\n",
    "독립 = 독립.reshape(50000,32,32,3)\n",
    "종속 = pd.get_dummies(종속.reshape(50000))\n",
    "print(독립.shape, 종속.shape)\n",
    "# 각각 numpy.ndarray 형식임"
   ]
  },
  {
   "cell_type": "code",
   "execution_count": 9,
   "metadata": {},
   "outputs": [
    {
     "output_type": "stream",
     "name": "stdout",
     "text": [
      "Model: \"model_2\"\n_________________________________________________________________\nLayer (type)                 Output Shape              Param #   \n=================================================================\ninput_3 (InputLayer)         [(None, 32, 32, 3)]       0         \n_________________________________________________________________\nconv2d_4 (Conv2D)            (None, 28, 28, 6)         456       \n_________________________________________________________________\nmax_pooling2d_4 (MaxPooling2 (None, 14, 14, 6)         0         \n_________________________________________________________________\nconv2d_5 (Conv2D)            (None, 10, 10, 16)        2416      \n_________________________________________________________________\nmax_pooling2d_5 (MaxPooling2 (None, 5, 5, 16)          0         \n_________________________________________________________________\nflatten_2 (Flatten)          (None, 400)               0         \n_________________________________________________________________\ndense_6 (Dense)              (None, 120)               48120     \n_________________________________________________________________\ndense_7 (Dense)              (None, 84)                10164     \n_________________________________________________________________\ndense_8 (Dense)              (None, 10)                850       \n=================================================================\nTotal params: 62,006\nTrainable params: 62,006\nNon-trainable params: 0\n_________________________________________________________________\n"
     ]
    }
   ],
   "source": [
    "X = tf.keras.layers.Input(shape=[32,32,3])\n",
    "\n",
    "H = tf.keras.layers.Conv2D(6, kernel_size=5, activation='swish')(X)  \n",
    "H = tf.keras.layers.MaxPool2D()(H)\n",
    "\n",
    "H = tf.keras.layers.Conv2D(16, kernel_size=5, activation='swish')(H)\n",
    "H = tf.keras.layers.MaxPool2D()(H)\n",
    "\n",
    "H = tf.keras.layers.Flatten()(H)\n",
    "H = tf.keras.layers.Dense(120, activation='swish')(H)\n",
    "H = tf.keras.layers.Dense(84, activation='swish')(H)\n",
    "Y = tf.keras.layers.Dense(10, activation='softmax')(H)\n",
    "model = tf.keras.models.Model(X,Y)\n",
    "model.compile(loss='categorical_crossentropy',metrics='accuracy')\n",
    "model.summary()"
   ]
  },
  {
   "cell_type": "code",
   "execution_count": null,
   "metadata": {},
   "outputs": [],
   "source": [
    "epochs = 10\n",
    "history = model_4.fit(독립, 종속, epochs=epochs)"
   ]
  }
 ]
}